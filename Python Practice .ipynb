{
 "cells": [
  {
   "cell_type": "markdown",
   "metadata": {},
   "source": [
    "### Q1. Write a program to calculate the area of a rectangle with given length and width.\n",
    "    area = length * width"
   ]
  },
  {
   "cell_type": "code",
   "execution_count": 1,
   "metadata": {},
   "outputs": [
    {
     "data": {
      "text/plain": [
       "2.0"
      ]
     },
     "execution_count": 1,
     "metadata": {},
     "output_type": "execute_result"
    }
   ],
   "source": [
    "l=float(input(\"enter the length\"))\n",
    "w=float(input(\"enter the width\"))\n",
    "area=l*w\n",
    "area"
   ]
  },
  {
   "cell_type": "markdown",
   "metadata": {},
   "source": [
    "### Q2. Write a program that takes an integer input from the user and prints whether it's even or odd.\n",
    "    Even Numbers: 0, 2, 4, 6, 8, ...\n",
    "    OOD Numbers: 1, 3, 5, 7, 9, .."
   ]
  },
  {
   "cell_type": "code",
   "execution_count": 2,
   "metadata": {},
   "outputs": [
    {
     "name": "stdout",
     "output_type": "stream",
     "text": [
      "is odd\n"
     ]
    }
   ],
   "source": [
    "l=float(input(\"enter the num\"))\n",
    "if l%2==0:\n",
    "    print(\"is even\")\n",
    "else:\n",
    "    print(\"is odd\")    "
   ]
  },
  {
   "cell_type": "markdown",
   "metadata": {},
   "source": [
    "### Q3. Write a program that takes a three-digit number as input and calculates the sum of its digits."
   ]
  },
  {
   "cell_type": "code",
   "execution_count": null,
   "metadata": {},
   "outputs": [],
   "source": [
    "\n",
    "num = int(input(\"Enter number \"))\n",
    "\n",
    "\n",
    "if 100 <= num <= 999:\n",
    "    hundreds = num // 100\n",
    "    tens = (num // 10) % 10\n",
    "    unit = num % 10\n",
    "\n",
    "    \n",
    "    sum = hundreds + tens + unit\n",
    "\n",
    "    # Print the result\n",
    "    print(f\"The sum of the digits of {num} is {sum}\")\n",
    "else:\n",
    "    print(\"Please enter a valid three-digit number\")\n"
   ]
  },
  {
   "cell_type": "markdown",
   "metadata": {},
   "source": [
    "### Q4. Create two strings and concatenate them to form a third string."
   ]
  },
  {
   "cell_type": "code",
   "execution_count": 3,
   "metadata": {},
   "outputs": [
    {
     "data": {
      "text/plain": [
       "'ahmed mohmed'"
      ]
     },
     "execution_count": 3,
     "metadata": {},
     "output_type": "execute_result"
    }
   ],
   "source": [
    "s1=str(input(\"enter the first string\"))\n",
    "s2=str(input(\"enter the sec string\"))\n",
    "s3=s1+s2\n",
    "s3"
   ]
  },
  {
   "cell_type": "markdown",
   "metadata": {},
   "source": [
    "### Q5. Write a program that compares two numbers and prints whether the first number is greater, smaller, or equal to the second number."
   ]
  },
  {
   "cell_type": "code",
   "execution_count": 5,
   "metadata": {},
   "outputs": [
    {
     "name": "stdout",
     "output_type": "stream",
     "text": [
      "the two numbers is equal\n"
     ]
    }
   ],
   "source": [
    "num1 = int(input(\"Enter number \"))\n",
    "num2 = int(input(\"Enter number \"))\n",
    "if num1>num2:\n",
    "    print (\"first number is the bigger\")\n",
    "elif num1 <num2 :\n",
    "    print(\"secound is the bigger\")\n",
    "else:\n",
    "    print(\"the two numbers is equal\")    \n",
    "    "
   ]
  },
  {
   "cell_type": "markdown",
   "metadata": {},
   "source": [
    "### Q6. Write a program that takes a string as input and prints it in reverse order.\n",
    "    ahmed => demha"
   ]
  },
  {
   "cell_type": "code",
   "execution_count": 6,
   "metadata": {},
   "outputs": [
    {
     "name": "stdout",
     "output_type": "stream",
     "text": [
      "demha\n"
     ]
    }
   ],
   "source": [
    "s=str(input(\"enter the string\"))\n",
    "print(s[::-1])"
   ]
  },
  {
   "cell_type": "markdown",
   "metadata": {},
   "source": [
    "### Q7. Write a program that takes a number as input and prints \"Positive\" if it's greater than 0, \"Negative\" if it's less than 0, and \"Zero\" if it's equal to 0."
   ]
  },
  {
   "cell_type": "code",
   "execution_count": 7,
   "metadata": {},
   "outputs": [
    {
     "name": "stdout",
     "output_type": "stream",
     "text": [
      " number is the positive\n"
     ]
    }
   ],
   "source": [
    "num1 = int(input(\"Enter number \"))\n",
    "\n",
    "if num1>0:\n",
    "    print (\" number is the positive\")\n",
    "elif num1 <0 :\n",
    "    print(\"number si negative\")\n",
    "else:\n",
    "    print(\" numbers is equal zero\")    \n",
    "    "
   ]
  },
  {
   "cell_type": "markdown",
   "metadata": {},
   "source": [
    "### Q8. Write a program that converts Fahrenheit to Celsius. Take Fahrenheit as input from the user.\n",
    "    Temperature in degrees Celsius (°C) = (Temperature in degrees Fahrenheit (°F) - 32) * 5/9"
   ]
  },
  {
   "cell_type": "code",
   "execution_count": 8,
   "metadata": {},
   "outputs": [
    {
     "data": {
      "text/plain": [
       "1.6666666666666667"
      ]
     },
     "execution_count": 8,
     "metadata": {},
     "output_type": "execute_result"
    }
   ],
   "source": [
    "fahr=float(input(\"enter number is fahrenheit \"))\n",
    "celsius=(fahr-32 )*5/9\n",
    "celsius"
   ]
  },
  {
   "cell_type": "markdown",
   "metadata": {},
   "source": [
    "### Q9. Write a program that takes a string as input and counts the number of characters in it.\n",
    "    ahmed => 5"
   ]
  },
  {
   "cell_type": "code",
   "execution_count": 9,
   "metadata": {},
   "outputs": [
    {
     "name": "stdout",
     "output_type": "stream",
     "text": [
      "5\n"
     ]
    }
   ],
   "source": [
    "s1=str(input(\"enter the string\"))\n",
    "print(len(s1))"
   ]
  },
  {
   "cell_type": "markdown",
   "metadata": {},
   "source": [
    "### Q10. Write a program that takes three numbers as input and prints the maximum of those numbers."
   ]
  },
  {
   "cell_type": "code",
   "execution_count": 10,
   "metadata": {},
   "outputs": [
    {
     "name": "stdout",
     "output_type": "stream",
     "text": [
      "3.0\n"
     ]
    }
   ],
   "source": [
    "num1 = float(input(\"Enter the first number \"))\n",
    "num2 = float(input(\"Enter the second  \"))\n",
    "num3 = float(input(\"Enter the third number \"))\n",
    "\n",
    "\n",
    "print(max(num1, num2, num3))\n"
   ]
  },
  {
   "cell_type": "markdown",
   "metadata": {},
   "source": [
    "### Q11. Create two lists and concatenate them to form a third list."
   ]
  },
  {
   "cell_type": "code",
   "execution_count": 11,
   "metadata": {},
   "outputs": [
    {
     "name": "stdout",
     "output_type": "stream",
     "text": [
      "[1, 2, 3, 4, 5, 6]\n"
     ]
    }
   ],
   "source": [
    "list1 = [1, 2, 3]\n",
    "list2 = [4, 5, 6]\n",
    "\n",
    "l3=list1 + list2\n",
    "print(l3)"
   ]
  },
  {
   "cell_type": "markdown",
   "metadata": {},
   "source": [
    "### Q12. Write a program that takes a string as input and checks whether it's a palindrome.\n",
    "    radar, level, madam, ..."
   ]
  },
  {
   "cell_type": "code",
   "execution_count": 12,
   "metadata": {},
   "outputs": [
    {
     "name": "stdout",
     "output_type": "stream",
     "text": [
      "the string is palindromee\n"
     ]
    }
   ],
   "source": [
    "s=str(input(\"enter the string to cheack\"))\n",
    "if s==s[::-1]:\n",
    "    print(\"the string is palindromee\")\n",
    "else:\n",
    "    print(\"is not palindrome\")    "
   ]
  },
  {
   "cell_type": "markdown",
   "metadata": {},
   "source": [
    "### Q13. Write a program that takes three numbers as input and prints their average."
   ]
  },
  {
   "cell_type": "code",
   "execution_count": 13,
   "metadata": {},
   "outputs": [
    {
     "data": {
      "text/plain": [
       "2.0"
      ]
     },
     "execution_count": 13,
     "metadata": {},
     "output_type": "execute_result"
    }
   ],
   "source": [
    "num1 = float(input(\"Enter the first number: \"))\n",
    "num2 = float(input(\"Enter the second number: \"))\n",
    "num3 = float(input(\"Enter the third number: \"))\n",
    "average = (num1 + num2 + num3) / 3\n",
    "average"
   ]
  },
  {
   "cell_type": "markdown",
   "metadata": {},
   "source": [
    "### Q14. Write a program that takes two numbers as input and checks whether the first number is divisible by the second number."
   ]
  },
  {
   "cell_type": "code",
   "execution_count": 14,
   "metadata": {},
   "outputs": [
    {
     "name": "stdout",
     "output_type": "stream",
     "text": [
      "the two numbers is not  divisible\n"
     ]
    }
   ],
   "source": [
    "num1 = float(input(\"Enter the first number: \"))\n",
    "num2 = float(input(\"Enter the second number: \"))\n",
    "if num1%num2==0 :\n",
    "   print(\"the two numbers is divisible\")\n",
    "else:\n",
    "   print(\"the two numbers is not  divisible\")   "
   ]
  },
  {
   "cell_type": "markdown",
   "metadata": {},
   "source": [
    "### Q15. Write a program that takes two numbers and an operator (+, -, *, /) as input and performs the corresponding operation."
   ]
  },
  {
   "cell_type": "code",
   "execution_count": 17,
   "metadata": {},
   "outputs": [
    {
     "name": "stdout",
     "output_type": "stream",
     "text": [
      "4.0\n"
     ]
    }
   ],
   "source": [
    "num1 = float(input(\"Enter the first number: \"))\n",
    "num2 = float(input(\"Enter the second number: \"))\n",
    "s=str(input( \"pleae enter the operator \"))\n",
    "if s==\"/\" :\n",
    "    print(num1/num2)\n",
    "if s==\"-\" :\n",
    "    print(num1-num2)    \n",
    "if s==\"+\" :\n",
    "    print(num1+num2)\n",
    "if s==\"*\" :\n",
    "    print(num1*num2)   \n",
    "else:\n",
    "    print(\"inavlid\"    )      "
   ]
  },
  {
   "cell_type": "markdown",
   "metadata": {},
   "source": [
    "### Q16. Write a program that takes three numbers as input and prints the minimum of those numbers."
   ]
  },
  {
   "cell_type": "code",
   "execution_count": null,
   "metadata": {},
   "outputs": [],
   "source": [
    "num1 = float(input(\"Enter the first number \"))\n",
    "num2 = float(input(\"Enter the second  \"))\n",
    "num3 = float(input(\"Enter the third number \"))\n",
    "\n",
    "\n",
    "print(min(num1, num2, num3))\n"
   ]
  },
  {
   "cell_type": "markdown",
   "metadata": {},
   "source": [
    "### Q17. Write a program that takes a string as input and prints its length."
   ]
  },
  {
   "cell_type": "code",
   "execution_count": null,
   "metadata": {},
   "outputs": [],
   "source": [
    "s1=str(input(\"enter the string\"))\n",
    "print(len(s1))"
   ]
  },
  {
   "cell_type": "markdown",
   "metadata": {},
   "source": [
    "### Q18. Create a list of numbers and write a program to find the sum of all elements in the list."
   ]
  },
  {
   "cell_type": "code",
   "execution_count": 18,
   "metadata": {},
   "outputs": [
    {
     "name": "stdout",
     "output_type": "stream",
     "text": [
      "21\n"
     ]
    }
   ],
   "source": [
    "l=[1,2,3,4,5,6]\n",
    "print(sum(l))\n",
    "\n"
   ]
  },
  {
   "cell_type": "markdown",
   "metadata": {},
   "source": [
    "### Q19. Write a program that takes a string as input and prints it in both uppercase and lowercase."
   ]
  },
  {
   "cell_type": "code",
   "execution_count": 19,
   "metadata": {},
   "outputs": [
    {
     "name": "stdout",
     "output_type": "stream",
     "text": [
      "AHMED\n",
      "ahmed\n"
     ]
    }
   ],
   "source": [
    "s1=str(input(\"enter the string\"))\n",
    "print(s1.upper())\n",
    "print(s1.lower())"
   ]
  }
 ],
 "metadata": {
  "kernelspec": {
   "display_name": "Python 3",
   "language": "python",
   "name": "python3"
  },
  "language_info": {
   "codemirror_mode": {
    "name": "ipython",
    "version": 3
   },
   "file_extension": ".py",
   "mimetype": "text/x-python",
   "name": "python",
   "nbconvert_exporter": "python",
   "pygments_lexer": "ipython3",
   "version": "3.11.9"
  }
 },
 "nbformat": 4,
 "nbformat_minor": 2
}
